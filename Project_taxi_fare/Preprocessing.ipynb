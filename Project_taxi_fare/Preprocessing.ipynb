{
 "cells": [
  {
   "cell_type": "code",
   "execution_count": 1,
   "id": "875bba1a",
   "metadata": {},
   "outputs": [],
   "source": [
    "#!/usr/bin/python\n",
    "\n",
    "# Intialization\n",
    "import os\n",
    "import sys\n",
    "os.environ[\"SPARK_HOME\"] = \"/home/talentum/spark\"\n",
    "os.environ[\"PYLIB\"] = os.environ[\"SPARK_HOME\"] + \"/python/lib\"\n",
    "# In below two lines, use /usr/bin/python2.7 if you want to use Python 2\n",
    "os.environ[\"PYSPARK_PYTHON\"] = \"/usr/bin/python3.6\" \n",
    "os.environ[\"PYSPARK_DRIVER_PYTHON\"] = \"/usr/bin/python3\"\n",
    "sys.path.insert(0, os.environ[\"PYLIB\"] +\"/py4j-0.10.7-src.zip\")\n",
    "sys.path.insert(0, os.environ[\"PYLIB\"] +\"/pyspark.zip\")\n",
    "\n",
    "# NOTE: Whichever package you want mention here.\n",
    "# os.environ['PYSPARK_SUBMIT_ARGS'] = '--packages com.databricks:spark-xml_2.11:0.6.0 pyspark-shell' \n",
    "# os.environ['PYSPARK_SUBMIT_ARGS'] = '--packages org.apache.spark:spark-avro_2.11:2.4.0 pyspark-shell'\n",
    "os.environ['PYSPARK_SUBMIT_ARGS'] = '--packages com.databricks:spark-xml_2.11:0.6.0,org.apache.spark:spark-avro_2.11:2.4.3 pyspark-shell'\n",
    "# os.environ['PYSPARK_SUBMIT_ARGS'] = '--packages com.databricks:spark-xml_2.11:0.6.0,org.apache.spark:spark-avro_2.11:2.4.0 pyspark-shell'23"
   ]
  },
  {
   "cell_type": "code",
   "execution_count": 2,
   "id": "03716964",
   "metadata": {},
   "outputs": [],
   "source": [
    "#Entrypoint 2.x\n",
    "from pyspark.sql import SparkSession\n",
    "spark = SparkSession.builder.appName(\"TaxiFarePrediction\").enableHiveSupport().getOrCreate()\n",
    "\n",
    "sc = spark.sparkContext"
   ]
  },
  {
   "cell_type": "code",
   "execution_count": 3,
   "id": "439aadfb",
   "metadata": {},
   "outputs": [
    {
     "name": "stdout",
     "output_type": "stream",
     "text": [
      "+--------+--------------------+---------------------+------------------+----------+------------+------------+---------------+-------------+-----------+-----+-------+----------+------------+---------------------+------------+------------+---------+--------------------+\n",
      "|VendorID|lpep_pickup_datetime|lpep_dropoff_datetime|store_and_fwd_flag|RatecodeID|PULocationID|DOLocationID|passenger_count|trip_distance|fare_amount|extra|mta_tax|tip_amount|tolls_amount|improvement_surcharge|total_amount|payment_type|trip_type|congestion_surcharge|\n",
      "+--------+--------------------+---------------------+------------------+----------+------------+------------+---------------+-------------+-----------+-----+-------+----------+------------+---------------------+------------+------------+---------+--------------------+\n",
      "|       2| 2020-01-01 06:47:28|  2020-01-01 06:52:54|                 N|         1|          74|          75|              1|         1.47|        6.5|  0.0|    0.5|       0.0|         0.0|                  0.3|         7.3|           2|        1|                 0.0|\n",
      "|       2| 2020-01-01 13:25:34|  2020-01-01 13:30:43|                 N|         1|          74|          75|              1|         1.49|        6.5|  0.0|    0.5|       0.0|         0.0|                  0.3|         7.3|           2|        1|                 0.0|\n",
      "|       2| 2020-01-01 14:20:35|  2020-01-01 14:26:25|                 N|         1|          74|          75|              1|         1.31|        6.5|  0.0|    0.5|       0.0|         0.0|                  0.3|         7.3|           2|        1|                 0.0|\n",
      "|       2| 2020-01-02 06:56:47|  2020-01-02 07:03:03|                 N|         1|          74|          75|              1|         1.43|        6.5|  0.0|    0.5|       0.0|         0.0|                  0.3|         7.3|           2|        1|                 0.0|\n",
      "|       2| 2020-01-02 09:34:46|  2020-01-02 09:41:02|                 N|         1|          74|          75|              1|          1.1|        6.5|  0.0|    0.5|       0.0|         0.0|                  0.3|         7.3|           2|        1|                 0.0|\n",
      "|       2| 2020-01-02 09:37:42|  2020-01-02 09:44:34|                 N|         1|          74|          75|              1|         1.24|        6.5|  0.0|    0.5|       0.0|         0.0|                  0.3|         7.3|           2|        1|                 0.0|\n",
      "|       2| 2020-01-02 10:23:34|  2020-01-02 10:29:57|                 N|         1|          74|          75|              1|         1.33|        6.5|  0.0|    0.5|       0.0|         0.0|                  0.3|         7.3|           2|        1|                 0.0|\n",
      "|       2| 2020-01-03 09:41:28|  2020-01-03 09:48:02|                 N|         1|          74|          75|              1|         1.35|        6.5|  0.0|    0.5|       0.0|         0.0|                  0.3|         7.3|           2|        1|                 0.0|\n",
      "|       2| 2020-01-03 09:02:30|  2020-01-03 09:10:00|                 N|         1|          74|          75|              1|         1.19|        6.5|  0.0|    0.5|       0.0|         0.0|                  0.3|         7.3|           2|        1|                 0.0|\n",
      "|       2| 2020-01-03 10:43:08|  2020-01-03 10:48:46|                 N|         1|          74|          75|              1|         1.35|        6.5|  0.0|    0.5|       0.0|         0.0|                  0.3|         7.3|           2|        1|                 0.0|\n",
      "|       2| 2020-01-03 12:22:12|  2020-01-03 12:27:21|                 N|         1|          74|          75|              1|         1.49|        6.5|  0.0|    0.5|       0.0|         0.0|                  0.3|         7.3|           2|        1|                 0.0|\n",
      "|       2| 2020-01-03 12:43:32|  2020-01-03 12:49:12|                 N|         1|          74|          75|              1|         1.49|        6.5|  0.0|    0.5|       0.0|         0.0|                  0.3|         7.3|           2|        1|                 0.0|\n",
      "|       2| 2020-01-03 12:32:31|  2020-01-03 12:39:25|                 N|         1|          74|          75|              1|         1.27|        6.5|  0.0|    0.5|       0.0|         0.0|                  0.3|         7.3|           2|        1|                 0.0|\n",
      "|       2| 2020-01-03 14:28:29|  2020-01-03 14:34:18|                 N|         1|          74|          75|              1|         1.39|        6.5|  0.0|    0.5|       0.0|         0.0|                  0.3|         7.3|           2|        1|                 0.0|\n",
      "|       2| 2020-01-04 07:31:00|  2020-01-04 07:36:54|                 N|         1|          74|          75|              1|         1.26|        6.5|  0.0|    0.5|       0.0|         0.0|                  0.3|         7.3|           2|        1|                 0.0|\n",
      "|       2| 2020-01-04 12:47:36|  2020-01-04 12:54:54|                 N|         1|          74|          75|              1|         1.18|        6.5|  0.0|    0.5|       0.0|         0.0|                  0.3|         7.3|           2|        1|                 0.0|\n",
      "|       2| 2020-01-04 14:38:36|  2020-01-04 14:45:09|                 N|         1|          74|          75|              1|         1.15|        6.5|  0.0|    0.5|       0.0|         0.0|                  0.3|         7.3|           2|        1|                 0.0|\n",
      "|       2| 2020-01-04 15:40:58|  2020-01-04 15:47:15|                 N|         1|          74|          75|              1|          1.1|        6.5|  0.0|    0.5|       0.0|         0.0|                  0.3|         7.3|           2|        1|                 0.0|\n",
      "|       2| 2020-01-04 15:48:56|  2020-01-04 15:55:04|                 N|         1|          74|          75|              1|         1.23|        6.5|  0.0|    0.5|       0.0|         0.0|                  0.3|         7.3|           2|        1|                 0.0|\n",
      "|       2| 2020-01-04 17:56:21|  2020-01-04 18:02:30|                 N|         1|          74|          75|              1|         1.17|        6.5|  0.0|    0.5|       0.0|         0.0|                  0.3|         7.3|           2|        1|                 0.0|\n",
      "+--------+--------------------+---------------------+------------------+----------+------------+------------+---------------+-------------+-----------+-----+-------+----------+------------+---------------------+------------+------------+---------+--------------------+\n",
      "only showing top 20 rows\n",
      "\n"
     ]
    }
   ],
   "source": [
    "df = spark.read.csv(\"Final_Project/2020_taxi_trips.csv\", header=True, inferSchema=True)\n",
    "\n",
    "# Display the DataFrame\n",
    "\n",
    "df.show()"
   ]
  },
  {
   "cell_type": "code",
   "execution_count": 4,
   "id": "901b0328",
   "metadata": {},
   "outputs": [
    {
     "name": "stdout",
     "output_type": "stream",
     "text": [
      "root\n",
      " |-- VendorID: integer (nullable = true)\n",
      " |-- lpep_pickup_datetime: timestamp (nullable = true)\n",
      " |-- lpep_dropoff_datetime: timestamp (nullable = true)\n",
      " |-- store_and_fwd_flag: string (nullable = true)\n",
      " |-- RatecodeID: integer (nullable = true)\n",
      " |-- PULocationID: integer (nullable = true)\n",
      " |-- DOLocationID: integer (nullable = true)\n",
      " |-- passenger_count: integer (nullable = true)\n",
      " |-- trip_distance: double (nullable = true)\n",
      " |-- fare_amount: double (nullable = true)\n",
      " |-- extra: double (nullable = true)\n",
      " |-- mta_tax: double (nullable = true)\n",
      " |-- tip_amount: double (nullable = true)\n",
      " |-- tolls_amount: double (nullable = true)\n",
      " |-- improvement_surcharge: double (nullable = true)\n",
      " |-- total_amount: double (nullable = true)\n",
      " |-- payment_type: integer (nullable = true)\n",
      " |-- trip_type: integer (nullable = true)\n",
      " |-- congestion_surcharge: double (nullable = true)\n",
      "\n"
     ]
    }
   ],
   "source": [
    "df.printSchema()"
   ]
  },
  {
   "cell_type": "code",
   "execution_count": 5,
   "id": "729071ed",
   "metadata": {},
   "outputs": [
    {
     "name": "stdout",
     "output_type": "stream",
     "text": [
      "Shape:  (1734051, 19)\n"
     ]
    }
   ],
   "source": [
    "row_count = df.count()\n",
    "column_count = len(df.columns)\n",
    "print('Shape: ',(row_count,column_count))"
   ]
  },
  {
   "cell_type": "markdown",
   "id": "e9a2cdb5",
   "metadata": {},
   "source": [
    "# Dropping nulls, columns"
   ]
  },
  {
   "cell_type": "code",
   "execution_count": 6,
   "id": "a078c16f",
   "metadata": {},
   "outputs": [
    {
     "name": "stdout",
     "output_type": "stream",
     "text": [
      "1734051\n"
     ]
    }
   ],
   "source": [
    "from pyspark.sql.functions import col\n",
    "# Specifying irrelevant columns\n",
    "columns_to_drop = ['VendorID','passenger_count', 'store_and_fwd_flag', 'RatecodeID', 'fare_amount', 'extra', 'mta_tax', 'tip_amount', 'tolls_amount', 'improvement_surcharge', 'payment_type', 'trip_type', 'congestion_surcharge']\n",
    "\n",
    "\n",
    "# Drop the specified columns from the DataFrame\n",
    "df_new = df.drop(*columns_to_drop)\n",
    "\n",
    "print(df_new.count())"
   ]
  },
  {
   "cell_type": "code",
   "execution_count": 7,
   "id": "b0f3c19c",
   "metadata": {},
   "outputs": [],
   "source": [
    "df_new = df_new.na.drop()\n",
    "df_new = df_new.filter(~(col(\"total_amount\") == \"NaN\"))"
   ]
  },
  {
   "cell_type": "code",
   "execution_count": 8,
   "id": "d767fd35",
   "metadata": {},
   "outputs": [
    {
     "name": "stdout",
     "output_type": "stream",
     "text": [
      "+---------+---------+\n",
      "|min_total|max_total|\n",
      "+---------+---------+\n",
      "|   -210.3|    803.8|\n",
      "+---------+---------+\n",
      "\n"
     ]
    }
   ],
   "source": [
    "from pyspark.sql.functions import min, max\n",
    "\n",
    "# Compute min and max\n",
    "df_new.select(\n",
    "    min(\"total_amount\").alias(\"min_total\"),\n",
    "    max(\"total_amount\").alias(\"max_total\")\n",
    "    \n",
    ").show()"
   ]
  },
  {
   "cell_type": "code",
   "execution_count": 9,
   "id": "6040fcfe",
   "metadata": {},
   "outputs": [
    {
     "name": "stdout",
     "output_type": "stream",
     "text": [
      "Number of rows with total_amount <= 0: 8639\n"
     ]
    }
   ],
   "source": [
    "# Filter rows where total_amount <= 0\n",
    "negative_total_amount_df = df_new.filter(df_new.total_amount <= 0)\n",
    "\n",
    "# Count how many such rows exist\n",
    "amount_negative = negative_total_amount_df.count()\n",
    "\n",
    "print(\"Number of rows with total_amount <= 0:\", amount_negative)"
   ]
  },
  {
   "cell_type": "code",
   "execution_count": 10,
   "id": "8fa31688",
   "metadata": {},
   "outputs": [
    {
     "name": "stdout",
     "output_type": "stream",
     "text": [
      "Number of rows with trip_distance <= 0: 65297\n"
     ]
    }
   ],
   "source": [
    "# Filter rows where total_distance <= 0\n",
    "negative_trip_distance_df = df_new.filter(df_new.trip_distance <= 0)\n",
    "\n",
    "# Count how many such rows exist\n",
    "distance_negative = negative_trip_distance_df.count()\n",
    "\n",
    "print(\"Number of rows with trip_distance <= 0:\", distance_negative)"
   ]
  },
  {
   "cell_type": "code",
   "execution_count": 11,
   "id": "9cac124c",
   "metadata": {},
   "outputs": [],
   "source": [
    "df_new = df_new[df_new['total_amount'] > 0]\n",
    "df_new = df_new[df_new['trip_distance'] > 0]"
   ]
  },
  {
   "cell_type": "code",
   "execution_count": 12,
   "id": "372d565f",
   "metadata": {},
   "outputs": [],
   "source": [
    "df_new = df_new[~df_new['PULocationID'].isin([264, 265]) & ~df_new['DOLocationID'].isin([264, 265])]"
   ]
  },
  {
   "cell_type": "code",
   "execution_count": 13,
   "id": "ea667cae",
   "metadata": {},
   "outputs": [
    {
     "data": {
      "text/plain": [
       "1652872"
      ]
     },
     "execution_count": 13,
     "metadata": {},
     "output_type": "execute_result"
    }
   ],
   "source": [
    "df_new.count()"
   ]
  },
  {
   "cell_type": "markdown",
   "id": "88a2bfdd",
   "metadata": {},
   "source": [
    "# Creating time category"
   ]
  },
  {
   "cell_type": "code",
   "execution_count": 14,
   "id": "8b161594",
   "metadata": {},
   "outputs": [],
   "source": [
    "from pyspark.sql.functions import hour, dayofmonth, month, when, col\n",
    "\n",
    "# Extract hour, day, and month from pickup time\n",
    "df_new = df_new.withColumn(\"hour\", hour(col(\"lpep_pickup_datetime\")))\n",
    "df_new = df_new.withColumn(\"day\", dayofmonth(col(\"lpep_pickup_datetime\")))\n",
    "df_new = df_new.withColumn(\"month\", month(col(\"lpep_pickup_datetime\")))\n",
    "\n",
    "# Categorize time into parts of day (label)\n",
    "df_new = df_new.withColumn(\n",
    "    \"time_category\",\n",
    "    when((col(\"hour\") >= 0) & (col(\"hour\") < 6), \"Early Morning\")\n",
    "    .when((col(\"hour\") >= 6) & (col(\"hour\") < 12), \"Morning\")\n",
    "    .when((col(\"hour\") >= 12) & (col(\"hour\") < 16), \"Afternoon\")\n",
    "    .when((col(\"hour\") >= 16) & (col(\"hour\") < 20), \"Evening\")\n",
    "    .otherwise(\"Night\")\n",
    ")\n",
    "\n",
    "# Create time category encoding\n",
    "df_new = df_new.withColumn(\n",
    "    \"time_category_encoded\",\n",
    "    when((col(\"hour\") >= 0) & (col(\"hour\") < 6), 1)\n",
    "    .when((col(\"hour\") >= 6) & (col(\"hour\") < 12), 2)\n",
    "    .when((col(\"hour\") >= 12) & (col(\"hour\") < 16), 3)\n",
    "    .when((col(\"hour\") >= 16) & (col(\"hour\") < 20), 4)\n",
    "    .otherwise(5)\n",
    ")\n"
   ]
  },
  {
   "cell_type": "code",
   "execution_count": 15,
   "id": "49da1312",
   "metadata": {},
   "outputs": [
    {
     "data": {
      "text/plain": [
       "0"
      ]
     },
     "execution_count": 15,
     "metadata": {},
     "output_type": "execute_result"
    }
   ],
   "source": [
    "df_new.filter(col(\"time_category_encoded\").isNull()).count()"
   ]
  },
  {
   "cell_type": "code",
   "execution_count": 16,
   "id": "9de00659",
   "metadata": {},
   "outputs": [],
   "source": [
    "df_new = df_new[['time_category_encoded','month', 'day', 'PULocationID', 'DOLocationID', 'trip_distance', 'total_amount']]"
   ]
  },
  {
   "cell_type": "code",
   "execution_count": 17,
   "id": "2e5f1b63",
   "metadata": {},
   "outputs": [],
   "source": [
    "df_new = df_new.orderBy(\"month\",\"day\",\"time_category_encoded\")"
   ]
  },
  {
   "cell_type": "code",
   "execution_count": 18,
   "id": "29f8f1da",
   "metadata": {},
   "outputs": [
    {
     "name": "stdout",
     "output_type": "stream",
     "text": [
      "+---------------------+-----+---+------------+------------+-------------+------------+\n",
      "|time_category_encoded|month|day|PULocationID|DOLocationID|trip_distance|total_amount|\n",
      "+---------------------+-----+---+------------+------------+-------------+------------+\n",
      "|                    1|    1|  1|          65|          40|         1.42|        9.36|\n",
      "|                    1|    1|  1|          82|         129|         1.06|        9.36|\n",
      "|                    1|    1|  1|          41|         238|         1.56|        9.32|\n",
      "|                    1|    1|  1|          82|          82|         0.95|        8.16|\n",
      "|                    1|    1|  1|          95|          95|         0.61|        7.88|\n",
      "|                    1|    1|  1|          97|          33|         1.47|        11.0|\n",
      "|                    1|    1|  1|          25|          25|         0.61|        8.19|\n",
      "|                    1|    1|  1|          82|         157|         1.49|       10.56|\n",
      "|                    1|    1|  1|           7|           7|         0.61|        8.19|\n",
      "|                    1|    1|  1|          80|         112|         1.19|        10.3|\n",
      "|                    1|    1|  1|         223|           7|         0.68|        7.56|\n",
      "|                    1|    1|  1|         179|         179|         1.17|        9.75|\n",
      "|                    1|    1|  1|          41|          74|         0.82|        7.56|\n",
      "|                    1|    1|  1|          36|          37|         1.38|        9.75|\n",
      "|                    1|    1|  1|         146|           7|         0.83|        7.56|\n",
      "|                    1|    1|  1|         130|          10|          1.8|       11.16|\n",
      "|                    1|    1|  1|           7|         179|          0.8|        7.56|\n",
      "|                    1|    1|  1|          41|         116|         1.62|       10.56|\n",
      "|                    1|    1|  1|          43|         166|         0.88|         8.5|\n",
      "|                    1|    1|  1|         223|         223|         1.32|       10.14|\n",
      "+---------------------+-----+---+------------+------------+-------------+------------+\n",
      "only showing top 20 rows\n",
      "\n"
     ]
    }
   ],
   "source": [
    "df_new.show()"
   ]
  },
  {
   "cell_type": "code",
   "execution_count": 19,
   "id": "6a708430",
   "metadata": {},
   "outputs": [
    {
     "data": {
      "text/plain": [
       "1652872"
      ]
     },
     "execution_count": 19,
     "metadata": {},
     "output_type": "execute_result"
    }
   ],
   "source": [
    "df_new.count()"
   ]
  },
  {
   "cell_type": "code",
   "execution_count": 20,
   "id": "38dab6d1",
   "metadata": {},
   "outputs": [],
   "source": [
    "import pandas as pd"
   ]
  },
  {
   "cell_type": "code",
   "execution_count": 21,
   "id": "3099de52",
   "metadata": {},
   "outputs": [],
   "source": [
    "preprocessed_data = df_new.toPandas()"
   ]
  },
  {
   "cell_type": "code",
   "execution_count": 22,
   "id": "dbe199e4",
   "metadata": {},
   "outputs": [
    {
     "data": {
      "text/html": [
       "<div>\n",
       "<style scoped>\n",
       "    .dataframe tbody tr th:only-of-type {\n",
       "        vertical-align: middle;\n",
       "    }\n",
       "\n",
       "    .dataframe tbody tr th {\n",
       "        vertical-align: top;\n",
       "    }\n",
       "\n",
       "    .dataframe thead th {\n",
       "        text-align: right;\n",
       "    }\n",
       "</style>\n",
       "<table border=\"1\" class=\"dataframe\">\n",
       "  <thead>\n",
       "    <tr style=\"text-align: right;\">\n",
       "      <th></th>\n",
       "      <th>time_category_encoded</th>\n",
       "      <th>month</th>\n",
       "      <th>day</th>\n",
       "      <th>PULocationID</th>\n",
       "      <th>DOLocationID</th>\n",
       "      <th>trip_distance</th>\n",
       "      <th>total_amount</th>\n",
       "    </tr>\n",
       "  </thead>\n",
       "  <tbody>\n",
       "    <tr>\n",
       "      <th>0</th>\n",
       "      <td>1</td>\n",
       "      <td>1</td>\n",
       "      <td>1</td>\n",
       "      <td>74</td>\n",
       "      <td>74</td>\n",
       "      <td>0.46</td>\n",
       "      <td>4.8</td>\n",
       "    </tr>\n",
       "    <tr>\n",
       "      <th>1</th>\n",
       "      <td>1</td>\n",
       "      <td>1</td>\n",
       "      <td>1</td>\n",
       "      <td>74</td>\n",
       "      <td>69</td>\n",
       "      <td>1.88</td>\n",
       "      <td>9.8</td>\n",
       "    </tr>\n",
       "    <tr>\n",
       "      <th>2</th>\n",
       "      <td>1</td>\n",
       "      <td>1</td>\n",
       "      <td>1</td>\n",
       "      <td>41</td>\n",
       "      <td>41</td>\n",
       "      <td>0.76</td>\n",
       "      <td>7.8</td>\n",
       "    </tr>\n",
       "    <tr>\n",
       "      <th>3</th>\n",
       "      <td>1</td>\n",
       "      <td>1</td>\n",
       "      <td>1</td>\n",
       "      <td>49</td>\n",
       "      <td>181</td>\n",
       "      <td>2.24</td>\n",
       "      <td>11.8</td>\n",
       "    </tr>\n",
       "    <tr>\n",
       "      <th>4</th>\n",
       "      <td>1</td>\n",
       "      <td>1</td>\n",
       "      <td>1</td>\n",
       "      <td>244</td>\n",
       "      <td>244</td>\n",
       "      <td>0.60</td>\n",
       "      <td>6.3</td>\n",
       "    </tr>\n",
       "  </tbody>\n",
       "</table>\n",
       "</div>"
      ],
      "text/plain": [
       "   time_category_encoded  month  day  PULocationID  DOLocationID  \\\n",
       "0                      1      1    1            74            74   \n",
       "1                      1      1    1            74            69   \n",
       "2                      1      1    1            41            41   \n",
       "3                      1      1    1            49           181   \n",
       "4                      1      1    1           244           244   \n",
       "\n",
       "   trip_distance  total_amount  \n",
       "0           0.46           4.8  \n",
       "1           1.88           9.8  \n",
       "2           0.76           7.8  \n",
       "3           2.24          11.8  \n",
       "4           0.60           6.3  "
      ]
     },
     "execution_count": 22,
     "metadata": {},
     "output_type": "execute_result"
    }
   ],
   "source": [
    "preprocessed_data.head()"
   ]
  },
  {
   "cell_type": "code",
   "execution_count": 23,
   "id": "43edb437",
   "metadata": {},
   "outputs": [],
   "source": [
    "preprocessed_data.to_csv(\"/home/talentum/preprocessed_data_2020.csv\", index=False)"
   ]
  },
  {
   "cell_type": "code",
   "execution_count": null,
   "id": "6257f75a",
   "metadata": {},
   "outputs": [],
   "source": []
  }
 ],
 "metadata": {
  "kernelspec": {
   "display_name": "Python 3",
   "language": "python",
   "name": "python3"
  },
  "language_info": {
   "codemirror_mode": {
    "name": "ipython",
    "version": 3
   },
   "file_extension": ".py",
   "mimetype": "text/x-python",
   "name": "python",
   "nbconvert_exporter": "python",
   "pygments_lexer": "ipython3",
   "version": "3.6.9"
  }
 },
 "nbformat": 4,
 "nbformat_minor": 5
}
