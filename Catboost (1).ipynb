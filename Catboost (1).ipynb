{
  "cells": [
    {
      "cell_type": "code",
      "execution_count": null,
      "metadata": {
        "colab": {
          "base_uri": "https://localhost:8080/"
        },
        "id": "xQkZeDhM4kIe",
        "outputId": "7645ef87-10cb-4fd1-c72a-979d60546790"
      },
      "outputs": [
        {
          "name": "stdout",
          "output_type": "stream",
          "text": [
            "Collecting catboost\n",
            "  Downloading catboost-1.2.8-cp311-cp311-manylinux2014_x86_64.whl.metadata (1.2 kB)\n",
            "Requirement already satisfied: graphviz in /usr/local/lib/python3.11/dist-packages (from catboost) (0.21)\n",
            "Requirement already satisfied: matplotlib in /usr/local/lib/python3.11/dist-packages (from catboost) (3.10.0)\n",
            "Requirement already satisfied: numpy<3.0,>=1.16.0 in /usr/local/lib/python3.11/dist-packages (from catboost) (2.0.2)\n",
            "Requirement already satisfied: pandas>=0.24 in /usr/local/lib/python3.11/dist-packages (from catboost) (2.2.2)\n",
            "Requirement already satisfied: scipy in /usr/local/lib/python3.11/dist-packages (from catboost) (1.16.0)\n",
            "Requirement already satisfied: plotly in /usr/local/lib/python3.11/dist-packages (from catboost) (5.24.1)\n",
            "Requirement already satisfied: six in /usr/local/lib/python3.11/dist-packages (from catboost) (1.17.0)\n",
            "Requirement already satisfied: python-dateutil>=2.8.2 in /usr/local/lib/python3.11/dist-packages (from pandas>=0.24->catboost) (2.9.0.post0)\n",
            "Requirement already satisfied: pytz>=2020.1 in /usr/local/lib/python3.11/dist-packages (from pandas>=0.24->catboost) (2025.2)\n",
            "Requirement already satisfied: tzdata>=2022.7 in /usr/local/lib/python3.11/dist-packages (from pandas>=0.24->catboost) (2025.2)\n",
            "Requirement already satisfied: contourpy>=1.0.1 in /usr/local/lib/python3.11/dist-packages (from matplotlib->catboost) (1.3.2)\n",
            "Requirement already satisfied: cycler>=0.10 in /usr/local/lib/python3.11/dist-packages (from matplotlib->catboost) (0.12.1)\n",
            "Requirement already satisfied: fonttools>=4.22.0 in /usr/local/lib/python3.11/dist-packages (from matplotlib->catboost) (4.59.0)\n",
            "Requirement already satisfied: kiwisolver>=1.3.1 in /usr/local/lib/python3.11/dist-packages (from matplotlib->catboost) (1.4.8)\n",
            "Requirement already satisfied: packaging>=20.0 in /usr/local/lib/python3.11/dist-packages (from matplotlib->catboost) (25.0)\n",
            "Requirement already satisfied: pillow>=8 in /usr/local/lib/python3.11/dist-packages (from matplotlib->catboost) (11.3.0)\n",
            "Requirement already satisfied: pyparsing>=2.3.1 in /usr/local/lib/python3.11/dist-packages (from matplotlib->catboost) (3.2.3)\n",
            "Requirement already satisfied: tenacity>=6.2.0 in /usr/local/lib/python3.11/dist-packages (from plotly->catboost) (8.5.0)\n",
            "Downloading catboost-1.2.8-cp311-cp311-manylinux2014_x86_64.whl (99.2 MB)\n",
            "\u001b[2K   \u001b[90m━━━━━━━━━━━━━━━━━━━━━━━━━━━━━━━━━━━━━━━━\u001b[0m \u001b[32m99.2/99.2 MB\u001b[0m \u001b[31m7.1 MB/s\u001b[0m eta \u001b[36m0:00:00\u001b[0m\n",
            "\u001b[?25hInstalling collected packages: catboost\n",
            "Successfully installed catboost-1.2.8\n"
          ]
        }
      ],
      "source": [
        "!pip install catboost"
      ]
    },
    {
      "cell_type": "code",
      "execution_count": null,
      "metadata": {
        "colab": {
          "background_save": true,
          "base_uri": "https://localhost:8080/"
        },
        "id": "myHWTd0k245q",
        "outputId": "6af295ea-e5cc-46a6-d3a7-c081b93d5b56"
      },
      "outputs": [
        {
          "name": "stdout",
          "output_type": "stream",
          "text": [
            "Mounted at /content/drive\n",
            "(542379, 7)\n",
            "         time_category_encoded  month  day  PULocationID  DOLocationID  \\\n",
            "1110493                      1      6    1            74            75   \n",
            "1110494                      1      6    1            74            75   \n",
            "\n",
            "         trip_distance  total_amount  \n",
            "1110493           1.49           7.3  \n",
            "1110494           1.43           6.8  \n",
            "time_category_encoded   -0.125280\n",
            "month                   -0.012773\n",
            "day                      0.012356\n",
            "PULocationID             0.172414\n",
            "DOLocationID             0.078873\n",
            "trip_distance            0.008135\n",
            "total_amount             1.000000\n",
            "Name: total_amount, dtype: float64\n",
            "time_category_encoded    0\n",
            "month                    0\n",
            "day                      0\n",
            "PULocationID             0\n",
            "DOLocationID             0\n",
            "trip_distance            0\n",
            "total_amount             0\n",
            "dtype: int64\n",
            "(406784, 6)\n",
            "(406784,)\n",
            "(135595, 6)\n",
            "(135595,)\n",
            "Fitting 3 folds for each of 16 candidates, totalling 48 fits\n",
            "Train MAE: 3.9913\n",
            "Train MSE: 39.7764\n",
            "Train RMSE: 6.3069\n",
            "Train R²: 0.8517\n",
            "\n",
            "Test MAE: 3.9972\n",
            "Test MSE: 38.7714\n",
            "Test RMSE: 6.2267\n",
            "Test R²: 0.8545\n",
            "\n",
            "Training R2 Score: 0.8516876848665352\n",
            "Testing R2 Score: 0.8545075344815323\n",
            "Training MSE: 39.77643561022972\n",
            "Testing MSE: 38.77136730514057\n"
          ]
        },
        {
          "data": {
            "image/png": "[encoded data removed]",
            "text/plain": [
              "<Figure size 800x600 with 1 Axes>"
            ]
          },
          "metadata": {},
          "output_type": "display_data"
        }
      ],
      "source": [
        "import pandas as pd\n",
        "import numpy as np\n",
        "import catboost\n",
        "from catboost import CatBoostRegressor\n",
        "import matplotlib.pyplot as plt\n",
        "from sklearn.model_selection import train_test_split, GridSearchCV\n",
        "from sklearn.metrics import mean_absolute_error, mean_squared_error, r2_score\n",
        "\n",
        "from google.colab import drive\n",
        "drive.mount('/content/drive')\n",
        "\n",
        "# Load the dataset\n",
        "df = pd.read_csv('/content/drive/MyDrive/NYC_DATA_SET/preprocessed_data_2020.csv')\n",
        "\n",
        "# Filter the dataset for specific months\n",
        "df_new = df[df['month'].isin([6, 7, 8, 9, 10, 11, 12])]\n",
        "\n",
        "# Display the shape and first few rows\n",
        "print(df_new.shape)\n",
        "print(df_new.head(2))\n",
        "\n",
        "# Check correlation with target variable\n",
        "print(df_new.corr()['total_amount'])\n",
        "\n",
        "# Check for missing values\n",
        "print(df_new.isnull().sum())\n",
        "\n",
        "# Define target and features\n",
        "y = df_new['total_amount']\n",
        "X = df_new.drop(columns=['total_amount'])\n",
        "\n",
        "# Split the data into training and testing sets\n",
        "X_train, X_test, y_train, y_test = train_test_split(X, y, random_state=7)\n",
        "\n",
        "print(X_train.shape)\n",
        "print(y_train.shape)\n",
        "print(X_test.shape)\n",
        "print(y_test.shape)\n",
        "\n",
        "# Initialize CatBoost Regressor\n",
        "catboost_model = CatBoostRegressor(objective='RMSE', random_seed=42, verbose=0)\n",
        "\n",
        "# Define hyperparameter grid\n",
        "param_grid = {\n",
        "    'iterations': [100, 200],\n",
        "    'depth': [3, 5],\n",
        "    'learning_rate': [0.1, 0.2],\n",
        "    'subsample': [0.8, 1.0]\n",
        "}\n",
        "\n",
        "# Grid Search\n",
        "grid_search = GridSearchCV(estimator=catboost_model,\n",
        "                           param_grid=param_grid,\n",
        "                           cv=3,\n",
        "                           scoring='neg_mean_squared_error',\n",
        "                           verbose=1)\n",
        "\n",
        "grid_search.fit(X_train, y_train)\n",
        "\n",
        "# Best model & predictions\n",
        "best_model = grid_search.best_estimator_\n",
        "\n",
        "# Predict on train and test\n",
        "y_train_pred = best_model.predict(X_train)\n",
        "y_test_pred = best_model.predict(X_test)\n",
        "\n",
        "# Compute metrics on test data\n",
        "mae_test = mean_absolute_error(y_test, y_test_pred)\n",
        "mse_test = mean_squared_error(y_test, y_test_pred)\n",
        "rmse_test = np.sqrt(mse_test)\n",
        "r2_test = r2_score(y_test, y_test_pred)\n",
        "\n",
        "# Also compute metrics on training data\n",
        "mae_train = mean_absolute_error(y_train, y_train_pred)\n",
        "mse_train = mean_squared_error(y_train, y_train_pred)\n",
        "rmse_train = np.sqrt(mse_train)\n",
        "r2_train = r2_score(y_train, y_train_pred)\n",
        "\n",
        "print(f\"Train MAE: {mae_train:.4f}\")\n",
        "print(f\"Train MSE: {mse_train:.4f}\")\n",
        "print(f\"Train RMSE: {rmse_train:.4f}\")\n",
        "print(f\"Train R²: {r2_train:.4f}\\n\")\n",
        "\n",
        "print(f\"Test MAE: {mae_test:.4f}\")\n",
        "print(f\"Test MSE: {mse_test:.4f}\")\n",
        "print(f\"Test RMSE: {rmse_test:.4f}\")\n",
        "print(f\"Test R²: {r2_test:.4f}\")\n",
        "\n",
        "\n",
        "# Evaluate Overfitting / Underfitting\n",
        "print(\"\\nTraining R2 Score:\", r2_score(y_train, y_train_pred))\n",
        "print(\"Testing R2 Score:\", r2_score(y_test, y_test_pred))\n",
        "print(\"Training MSE:\", mean_squared_error(y_train, y_train_pred))\n",
        "print(\"Testing MSE:\", mean_squared_error(y_test, y_test_pred))\n",
        "\n",
        "# Scatter Plot (Actual vs Predicted)\n",
        "plt.figure(figsize=(8, 6))\n",
        "plt.scatter(y_test, y_test_pred, alpha=0.7)\n",
        "plt.xlabel(\"Actual Values\")\n",
        "plt.ylabel(\"Predicted Values\")\n",
        "plt.title(\"Actual vs Predicted Values - CatBoost Regression\")\n",
        "plt.plot([min(y_test), max(y_test)], [min(y_test), max(y_test)], color='red', linestyle='--')  # Ideal line\n",
        "plt.grid(True)\n",
        "plt.show()\n"
      ]
    },
    {
      "cell_type": "code",
      "execution_count": null,
      "metadata": {
        "colab": {
          "base_uri": "https://localhost:8080/"
        },
        "id": "O4l7XLhZ26WF",
        "outputId": "9a200843-d2c1-426a-9f66-4662e54b7cd9"
      },
      "outputs": [
        {
          "name": "stdout",
          "output_type": "stream",
          "text": [
            "Saved tuned model: cat_model.pkl\n"
          ]
        }
      ],
      "source": [
        "# Pickle\n",
        "import joblib\n",
        "joblib.dump(best_model, 'cat_model.pkl')\n",
        "print(\"Saved tuned model: cat_model.pkl\")"
      ]
    },
    {
      "cell_type": "code",
      "execution_count": null,
      "metadata": {
        "colab": {
          "background_save": true,
          "base_uri": "https://localhost:8080/"
        },
        "id": "XXLCxfhE26ZI",
        "outputId": "42d37b94-b9c2-4c7a-a06c-55dacba242e4"
      },
      "outputs": [
        {
          "name": "stdout",
          "output_type": "stream",
          "text": [
            "Fitting 3 folds for each of 324 candidates, totalling 972 fits\n"
          ]
        }
      ],
      "source": [
        "from sklearn.model_selection import GridSearchCV\n",
        "from catboost import CatBoostRegressor\n",
        "from sklearn.metrics import mean_squared_error, r2_score, mean_absolute_error\n",
        "import numpy as np\n",
        "import matplotlib.pyplot as plt\n",
        "\n",
        "# Parameter grid for CatBoost\n",
        "param_grid = {\n",
        "    'iterations': [50, 100, 200],\n",
        "    'depth': [3, 5, 7, 9],\n",
        "    'learning_rate': [0.01, 0.1, 0.2],\n",
        "    'subsample': [0.6, 0.8, 1.0],\n",
        "    'l2_leaf_reg': [1, 3, 5]  # Equivalent to gamma in XGBoost\n",
        "}\n",
        "\n",
        "# Base model with early stopping and eval metric\n",
        "catboost_model = CatBoostRegressor(\n",
        "    random_seed=42,\n",
        "    objective='RMSE',  # Set the objective\n",
        "    verbose=0,  # Suppress output during training\n",
        ")\n",
        "\n",
        "# Grid SearchCV\n",
        "grid_search = GridSearchCV(\n",
        "    estimator=catboost_model,\n",
        "    param_grid=param_grid,\n",
        "    scoring='neg_mean_squared_error',\n",
        "    cv=3,\n",
        "    verbose=2,\n",
        "    n_jobs=-1\n",
        ")\n",
        "\n",
        "# Fit model\n",
        "grid_search.fit(X_train, y_train)\n",
        "\n",
        "# Best model\n",
        "best_catboost_model_tuned_gs = grid_search.best_estimator_\n",
        "\n",
        "# Fit best model with eval_set to collect learning curves\n",
        "best_catboost_model_tuned_gs.fit(\n",
        "    X_train, y_train,\n",
        "    eval_set=[(X_train, y_train), (X_test, y_test)],\n",
        "    verbose=False  # Suppress output during training\n",
        ")\n",
        "\n",
        "# Predictions\n",
        "y_pred_catboost_tuned_gs = best_catboost_model_tuned_gs.predict(X_test)\n",
        "\n",
        "# Evaluation\n",
        "mae = mean_absolute_error(y_test, y_pred_catboost_tuned_gs)\n",
        "mse = mean_squared_error(y_test, y_pred_catboost_tuned_gs)\n",
        "rmse = np.sqrt(mse)\n",
        "r2 = r2_score(y_test, y_pred_catboost_tuned_gs)\n",
        "\n",
        "print(\"\\nEvaluation of the best CatBoost model after tuning:\")\n",
        "print(f\"MAE:  {mae:.4f}\")\n",
        "print(f\"MSE:  {mse:.4f}\")\n",
        "print(f\"RMSE: {rmse:.4f}\")\n",
        "print(f\"R²:   {r2:.4f}\")\n",
        "\n",
        "# Plot Learning Curves (Train vs Test RMSE)\n",
        "results = best_catboost_model_tuned_gs.get_evals_result()\n",
        "\n",
        "train_rmse = results['learn']['RMSE']\n",
        "test_rmse = results['validation']['RMSE']\n",
        "\n",
        "plt.figure(figsize=(10, 5))\n",
        "plt.plot(train_rmse, label='Train RMSE', color='blue')\n",
        "plt.plot(test_rmse, label='Test RMSE', color='red')\n",
        "plt.xlabel(\"Boosting Rounds\")\n",
        "plt.ylabel(\"RMSE\")\n",
        "plt.title(\"Train vs Test RMSE Over Boosting Rounds - CatBoost\")\n",
        "plt.legend()\n",
        "plt.grid(True)\n",
        "plt.tight_layout()\n",
        "plt.show()"
      ]
    },
    {
      "cell_type": "code",
      "execution_count": null,
      "metadata": {
        "id": "gKRY0EnM26bd"
      },
      "outputs": [],
      "source": []
    },
    {
      "cell_type": "code",
      "execution_count": null,
      "metadata": {
        "id": "ldFTIG2926eS"
      },
      "outputs": [],
      "source": []
    },
    {
      "cell_type": "code",
      "execution_count": null,
      "metadata": {
        "id": "HadV4Plq26hD"
      },
      "outputs": [],
      "source": []
    },
    {
      "cell_type": "code",
      "execution_count": null,
      "metadata": {
        "id": "L22_57PU26j5"
      },
      "outputs": [],
      "source": []
    },
    {
      "cell_type": "code",
      "execution_count": null,
      "metadata": {
        "id": "2Fw1ZYhQ26mx"
      },
      "outputs": [],
      "source": []
    },
    {
      "cell_type": "code",
      "execution_count": null,
      "metadata": {
        "id": "ah_uOwlZ26ph"
      },
      "outputs": [],
      "source": []
    },
    {
      "cell_type": "code",
      "execution_count": null,
      "metadata": {
        "id": "S6m_pIp926sI"
      },
      "outputs": [],
      "source": []
    },
    {
      "cell_type": "code",
      "execution_count": null,
      "metadata": {
        "id": "ud58qEVl26u1"
      },
      "outputs": [],
      "source": []
    },
    {
      "cell_type": "code",
      "execution_count": null,
      "metadata": {
        "id": "X0KTy7sC26x1"
      },
      "outputs": [],
      "source": []
    },
    {
      "cell_type": "code",
      "execution_count": null,
      "metadata": {
        "id": "lQEYnnVJ260u"
      },
      "outputs": [],
      "source": []
    },
    {
      "cell_type": "code",
      "execution_count": null,
      "metadata": {
        "id": "P690JMDR264D"
      },
      "outputs": [],
      "source": []
    },
    {
      "cell_type": "code",
      "execution_count": null,
      "metadata": {
        "id": "ebb05b91"
      },
      "outputs": [],
      "source": [
        "# Save the best-tuned CatBoost model\n",
        "joblib.dump(best_catboost_model_tuned_gs, 'best_catboost_model_tuned_gs.pkl')\n",
        "print(\"Saved best-tuned model: best_catboost_model_tuned_gs.pkl\")"
      ]
    }
  ],
  "metadata": {
    "colab": {
      "provenance": []
    },
    "kernelspec": {
      "display_name": "Python 3",
      "name": "python3"
    },
    "language_info": {
      "name": "python"
    }
  },
  "nbformat": 4,
  "nbformat_minor": 0
}